{
 "cells": [
  {
   "cell_type": "code",
   "execution_count": 1,
   "id": "88042400-114a-4474-a9f5-6f4b4d4856c4",
   "metadata": {},
   "outputs": [],
   "source": [
    "import pandas as pd\n",
    "import numpy as np\n",
    "from sklearn.model_selection import train_test_split\n",
    "from sklearn.linear_model import LinearRegression\n",
    "from sklearn.metrics import mean_absolute_error\n",
    "import matplotlib.pyplot as plt"
   ]
  },
  {
   "cell_type": "code",
   "execution_count": 2,
   "id": "fc59d641-4205-48f4-8f17-32f487b85272",
   "metadata": {},
   "outputs": [],
   "source": [
    "# Load the data from the uploaded file\n",
    "df = pd.read_csv(\"C:\\\\Users\\\\Sushmita\\\\Downloads\\\\RCC_SRNagar.csv\")"
   ]
  },
  {
   "cell_type": "code",
   "execution_count": 3,
   "id": "e412d4f3-ff81-48d4-8dd4-0cf503c713c1",
   "metadata": {},
   "outputs": [
    {
     "name": "stdout",
     "output_type": "stream",
     "text": [
      "<class 'pandas.core.frame.DataFrame'>\n",
      "RangeIndex: 30 entries, 0 to 29\n",
      "Data columns (total 12 columns):\n",
      " #   Column           Non-Null Count  Dtype \n",
      "---  ------           --------------  ----- \n",
      " 0   DATE             30 non-null     object\n",
      " 1   OYO_CASH         30 non-null     int64 \n",
      " 2   OYO_UPI          30 non-null     int64 \n",
      " 3   OYO_CARD         30 non-null     int64 \n",
      " 4   OYO_ONLINE PAID  30 non-null     int64 \n",
      " 5   Walkin_CASH      30 non-null     int64 \n",
      " 6   Walkin_UPI       30 non-null     int64 \n",
      " 7   Walkin_CARD      30 non-null     int64 \n",
      " 8   EXPENSES         30 non-null     int64 \n",
      " 9   Total Sale       30 non-null     int64 \n",
      " 10  Day close        30 non-null     int64 \n",
      " 11  Cash collected   30 non-null     int64 \n",
      "dtypes: int64(11), object(1)\n",
      "memory usage: 2.9+ KB\n"
     ]
    }
   ],
   "source": [
    "df.info()"
   ]
  },
  {
   "cell_type": "code",
   "execution_count": 4,
   "id": "14bb2a79-f9f1-4561-a758-c049ef503dc0",
   "metadata": {},
   "outputs": [],
   "source": [
    "# Strip any leading/trailing whitespace from column names\n",
    "df.columns = df.columns.str.strip()\n",
    "\n",
    "# Convert the 'DATE' column to datetime format\n",
    "if 'DATE' in df.columns:\n",
    "    df['DATE'] = pd.to_datetime(df['DATE'])\n",
    "else:\n",
    "    # If 'DATE' column is not found, identify the correct column name\n",
    "    potential_date_columns = [col for col in data.columns if 'date' in col.lower()]\n",
    "    if potential_date_columns:\n",
    "        date_column = potential_date_columns[0]\n",
    "        data[date_column] = pd.to_datetime(data[date_column])\n",
    "    else:\n",
    "        raise KeyError(\"'DATE' column not found in the DataFrame\")"
   ]
  },
  {
   "cell_type": "code",
   "execution_count": 5,
   "id": "42281aca-4eac-475a-9583-66a77751a99b",
   "metadata": {},
   "outputs": [
    {
     "name": "stdout",
     "output_type": "stream",
     "text": [
      "DATE               datetime64[ns]\n",
      "OYO_CASH                    int64\n",
      "OYO_UPI                     int64\n",
      "OYO_CARD                    int64\n",
      "OYO_ONLINE PAID             int64\n",
      "Walkin_CASH                 int64\n",
      "Walkin_UPI                  int64\n",
      "Walkin_CARD                 int64\n",
      "EXPENSES                    int64\n",
      "Total Sale                  int64\n",
      "Day close                   int64\n",
      "Cash collected              int64\n",
      "dtype: object\n"
     ]
    }
   ],
   "source": [
    "# Check the data types to confirm the conversion\n",
    "print(df.dtypes)"
   ]
  },
  {
   "cell_type": "code",
   "execution_count": 6,
   "id": "a08d3296-c1b0-4905-bf96-06eda02e452a",
   "metadata": {},
   "outputs": [
    {
     "data": {
      "text/html": [
       "<div>\n",
       "<style scoped>\n",
       "    .dataframe tbody tr th:only-of-type {\n",
       "        vertical-align: middle;\n",
       "    }\n",
       "\n",
       "    .dataframe tbody tr th {\n",
       "        vertical-align: top;\n",
       "    }\n",
       "\n",
       "    .dataframe thead th {\n",
       "        text-align: right;\n",
       "    }\n",
       "</style>\n",
       "<table border=\"1\" class=\"dataframe\">\n",
       "  <thead>\n",
       "    <tr style=\"text-align: right;\">\n",
       "      <th></th>\n",
       "      <th>DATE</th>\n",
       "      <th>OYO_CASH</th>\n",
       "      <th>OYO_UPI</th>\n",
       "      <th>OYO_CARD</th>\n",
       "      <th>OYO_ONLINE PAID</th>\n",
       "      <th>Walkin_CASH</th>\n",
       "      <th>Walkin_UPI</th>\n",
       "      <th>Walkin_CARD</th>\n",
       "      <th>EXPENSES</th>\n",
       "      <th>Total Sale</th>\n",
       "      <th>Day close</th>\n",
       "      <th>Cash collected</th>\n",
       "    </tr>\n",
       "  </thead>\n",
       "  <tbody>\n",
       "    <tr>\n",
       "      <th>0</th>\n",
       "      <td>2024-06-01</td>\n",
       "      <td>2071</td>\n",
       "      <td>8678</td>\n",
       "      <td>5125</td>\n",
       "      <td>6139</td>\n",
       "      <td>800</td>\n",
       "      <td>16100</td>\n",
       "      <td>2300</td>\n",
       "      <td>1070</td>\n",
       "      <td>41213</td>\n",
       "      <td>34004</td>\n",
       "      <td>1801</td>\n",
       "    </tr>\n",
       "    <tr>\n",
       "      <th>1</th>\n",
       "      <td>2024-06-02</td>\n",
       "      <td>1200</td>\n",
       "      <td>6781</td>\n",
       "      <td>1677</td>\n",
       "      <td>2954</td>\n",
       "      <td>18300</td>\n",
       "      <td>7000</td>\n",
       "      <td>2000</td>\n",
       "      <td>2900</td>\n",
       "      <td>39912</td>\n",
       "      <td>34058</td>\n",
       "      <td>16600</td>\n",
       "    </tr>\n",
       "    <tr>\n",
       "      <th>2</th>\n",
       "      <td>2024-06-03</td>\n",
       "      <td>2399</td>\n",
       "      <td>9398</td>\n",
       "      <td>0</td>\n",
       "      <td>1233</td>\n",
       "      <td>6900</td>\n",
       "      <td>14200</td>\n",
       "      <td>3200</td>\n",
       "      <td>2035</td>\n",
       "      <td>37330</td>\n",
       "      <td>34062</td>\n",
       "      <td>7264</td>\n",
       "    </tr>\n",
       "    <tr>\n",
       "      <th>3</th>\n",
       "      <td>2024-06-04</td>\n",
       "      <td>1218</td>\n",
       "      <td>6808</td>\n",
       "      <td>0</td>\n",
       "      <td>1786</td>\n",
       "      <td>19500</td>\n",
       "      <td>8952</td>\n",
       "      <td>1120</td>\n",
       "      <td>3510</td>\n",
       "      <td>39384</td>\n",
       "      <td>34088</td>\n",
       "      <td>17208</td>\n",
       "    </tr>\n",
       "    <tr>\n",
       "      <th>4</th>\n",
       "      <td>2024-06-05</td>\n",
       "      <td>2369</td>\n",
       "      <td>7750</td>\n",
       "      <td>0</td>\n",
       "      <td>4100</td>\n",
       "      <td>12700</td>\n",
       "      <td>9700</td>\n",
       "      <td>0</td>\n",
       "      <td>2440</td>\n",
       "      <td>36619</td>\n",
       "      <td>30079</td>\n",
       "      <td>12629</td>\n",
       "    </tr>\n",
       "  </tbody>\n",
       "</table>\n",
       "</div>"
      ],
      "text/plain": [
       "        DATE  OYO_CASH  OYO_UPI  OYO_CARD  OYO_ONLINE PAID  Walkin_CASH  \\\n",
       "0 2024-06-01      2071     8678      5125             6139          800   \n",
       "1 2024-06-02      1200     6781      1677             2954        18300   \n",
       "2 2024-06-03      2399     9398         0             1233         6900   \n",
       "3 2024-06-04      1218     6808         0             1786        19500   \n",
       "4 2024-06-05      2369     7750         0             4100        12700   \n",
       "\n",
       "   Walkin_UPI  Walkin_CARD  EXPENSES  Total Sale  Day close  Cash collected  \n",
       "0       16100         2300      1070       41213      34004            1801  \n",
       "1        7000         2000      2900       39912      34058           16600  \n",
       "2       14200         3200      2035       37330      34062            7264  \n",
       "3        8952         1120      3510       39384      34088           17208  \n",
       "4        9700            0      2440       36619      30079           12629  "
      ]
     },
     "execution_count": 6,
     "metadata": {},
     "output_type": "execute_result"
    }
   ],
   "source": [
    "df.head()"
   ]
  },
  {
   "cell_type": "code",
   "execution_count": 7,
   "id": "72deb012-0512-4ada-9065-7a2eb2a1488c",
   "metadata": {},
   "outputs": [
    {
     "name": "stdout",
     "output_type": "stream",
     "text": [
      "<class 'pandas.core.frame.DataFrame'>\n",
      "RangeIndex: 30 entries, 0 to 29\n",
      "Data columns (total 12 columns):\n",
      " #   Column           Non-Null Count  Dtype         \n",
      "---  ------           --------------  -----         \n",
      " 0   DATE             30 non-null     datetime64[ns]\n",
      " 1   OYO_CASH         30 non-null     int64         \n",
      " 2   OYO_UPI          30 non-null     int64         \n",
      " 3   OYO_CARD         30 non-null     int64         \n",
      " 4   OYO_ONLINE PAID  30 non-null     int64         \n",
      " 5   Walkin_CASH      30 non-null     int64         \n",
      " 6   Walkin_UPI       30 non-null     int64         \n",
      " 7   Walkin_CARD      30 non-null     int64         \n",
      " 8   EXPENSES         30 non-null     int64         \n",
      " 9   Total Sale       30 non-null     int64         \n",
      " 10  Day close        30 non-null     int64         \n",
      " 11  Cash collected   30 non-null     int64         \n",
      "dtypes: datetime64[ns](1), int64(11)\n",
      "memory usage: 2.9 KB\n"
     ]
    }
   ],
   "source": [
    "df.info()"
   ]
  },
  {
   "cell_type": "code",
   "execution_count": 8,
   "id": "c75d348e-cff6-46c9-b416-02a65bf7a458",
   "metadata": {},
   "outputs": [],
   "source": [
    "'''\n",
    "y(hardcover) = w*(time)+b\n",
    "'''\n",
    "df['Time'] = np.arange(len(df.index))\n",
    "df\n",
    "\n",
    "df.drop(columns=['DATE','Day close','Cash collected'],inplace=True)"
   ]
  },
  {
   "cell_type": "code",
   "execution_count": 9,
   "id": "deec1425-23ad-4aef-ae73-62ff68428861",
   "metadata": {},
   "outputs": [
    {
     "data": {
      "text/html": [
       "<div>\n",
       "<style scoped>\n",
       "    .dataframe tbody tr th:only-of-type {\n",
       "        vertical-align: middle;\n",
       "    }\n",
       "\n",
       "    .dataframe tbody tr th {\n",
       "        vertical-align: top;\n",
       "    }\n",
       "\n",
       "    .dataframe thead th {\n",
       "        text-align: right;\n",
       "    }\n",
       "</style>\n",
       "<table border=\"1\" class=\"dataframe\">\n",
       "  <thead>\n",
       "    <tr style=\"text-align: right;\">\n",
       "      <th></th>\n",
       "      <th>OYO_CASH</th>\n",
       "      <th>OYO_UPI</th>\n",
       "      <th>OYO_CARD</th>\n",
       "      <th>OYO_ONLINE PAID</th>\n",
       "      <th>Walkin_CASH</th>\n",
       "      <th>Walkin_UPI</th>\n",
       "      <th>Walkin_CARD</th>\n",
       "      <th>EXPENSES</th>\n",
       "      <th>Total Sale</th>\n",
       "      <th>Time</th>\n",
       "    </tr>\n",
       "  </thead>\n",
       "  <tbody>\n",
       "    <tr>\n",
       "      <th>0</th>\n",
       "      <td>2071</td>\n",
       "      <td>8678</td>\n",
       "      <td>5125</td>\n",
       "      <td>6139</td>\n",
       "      <td>800</td>\n",
       "      <td>16100</td>\n",
       "      <td>2300</td>\n",
       "      <td>1070</td>\n",
       "      <td>41213</td>\n",
       "      <td>0</td>\n",
       "    </tr>\n",
       "    <tr>\n",
       "      <th>1</th>\n",
       "      <td>1200</td>\n",
       "      <td>6781</td>\n",
       "      <td>1677</td>\n",
       "      <td>2954</td>\n",
       "      <td>18300</td>\n",
       "      <td>7000</td>\n",
       "      <td>2000</td>\n",
       "      <td>2900</td>\n",
       "      <td>39912</td>\n",
       "      <td>1</td>\n",
       "    </tr>\n",
       "    <tr>\n",
       "      <th>2</th>\n",
       "      <td>2399</td>\n",
       "      <td>9398</td>\n",
       "      <td>0</td>\n",
       "      <td>1233</td>\n",
       "      <td>6900</td>\n",
       "      <td>14200</td>\n",
       "      <td>3200</td>\n",
       "      <td>2035</td>\n",
       "      <td>37330</td>\n",
       "      <td>2</td>\n",
       "    </tr>\n",
       "    <tr>\n",
       "      <th>3</th>\n",
       "      <td>1218</td>\n",
       "      <td>6808</td>\n",
       "      <td>0</td>\n",
       "      <td>1786</td>\n",
       "      <td>19500</td>\n",
       "      <td>8952</td>\n",
       "      <td>1120</td>\n",
       "      <td>3510</td>\n",
       "      <td>39384</td>\n",
       "      <td>3</td>\n",
       "    </tr>\n",
       "    <tr>\n",
       "      <th>4</th>\n",
       "      <td>2369</td>\n",
       "      <td>7750</td>\n",
       "      <td>0</td>\n",
       "      <td>4100</td>\n",
       "      <td>12700</td>\n",
       "      <td>9700</td>\n",
       "      <td>0</td>\n",
       "      <td>2440</td>\n",
       "      <td>36619</td>\n",
       "      <td>4</td>\n",
       "    </tr>\n",
       "  </tbody>\n",
       "</table>\n",
       "</div>"
      ],
      "text/plain": [
       "   OYO_CASH  OYO_UPI  OYO_CARD  OYO_ONLINE PAID  Walkin_CASH  Walkin_UPI  \\\n",
       "0      2071     8678      5125             6139          800       16100   \n",
       "1      1200     6781      1677             2954        18300        7000   \n",
       "2      2399     9398         0             1233         6900       14200   \n",
       "3      1218     6808         0             1786        19500        8952   \n",
       "4      2369     7750         0             4100        12700        9700   \n",
       "\n",
       "   Walkin_CARD  EXPENSES  Total Sale  Time  \n",
       "0         2300      1070       41213     0  \n",
       "1         2000      2900       39912     1  \n",
       "2         3200      2035       37330     2  \n",
       "3         1120      3510       39384     3  \n",
       "4            0      2440       36619     4  "
      ]
     },
     "execution_count": 9,
     "metadata": {},
     "output_type": "execute_result"
    }
   ],
   "source": [
    "df.head()"
   ]
  },
  {
   "cell_type": "code",
   "execution_count": 10,
   "id": "32d228e6-268e-4f16-a8e2-59939eb8e89a",
   "metadata": {},
   "outputs": [
    {
     "data": {
      "text/plain": [
       "'\\ny(hardcover) = w*time+b\\n\\ny(hardcover) = w1*time+w2*previous_day_sales+w3*previous_two_day_sales\\n\\n'"
      ]
     },
     "execution_count": 10,
     "metadata": {},
     "output_type": "execute_result"
    }
   ],
   "source": [
    "'''\n",
    "Lag Features = Extra feature column\n",
    "'''\n",
    "df['Oyo_Cash_Lag_1'] = df['OYO_CASH'].shift(1)\n",
    "df['Oyo_UPI_Lag_1'] = df['OYO_UPI'].shift(1)\n",
    "df['Oyo_CARD_Lag_1'] = df['OYO_CARD'].shift(1)\n",
    "df['OYO_ONLINE PAID_Lag_1'] = df['OYO_ONLINE PAID'].shift(1)\n",
    "df['Walkin_CASH_Lag_1'] = df['Walkin_CASH'].shift(1)\n",
    "df['Walkin_UPI_Lag_1'] = df['Walkin_UPI'].shift(1)\n",
    "df['Walkin_CARD_Lag_1'] = df['Walkin_CARD'].shift(1)\n",
    "df['EXPENSES_Lag_1'] = df['EXPENSES'].shift(1)\n",
    "df['Oyo_Cash_Lag_2'] = df['OYO_CASH'].shift(2)\n",
    "df['Oyo_UPI_Lag_2'] = df['OYO_UPI'].shift(2)\n",
    "df['Oyo_CARD_Lag_2'] = df['OYO_CARD'].shift(2)\n",
    "df['OYO_ONLINE PAID_Lag_2'] = df['OYO_ONLINE PAID'].shift(2)\n",
    "df['Walkin_CASH_Lag_2'] = df['Walkin_CASH'].shift(2)\n",
    "df['Walkin_UPI_Lag_2'] = df['Walkin_UPI'].shift(2)\n",
    "df['Walkin_CARD_Lag_2'] = df['Walkin_CARD'].shift(2)\n",
    "df['EXPENSES_Lag_2'] = df['EXPENSES'].shift(2)\n",
    "df['Oyo_Cash_Lag_3'] = df['OYO_CASH'].shift(3)\n",
    "df['Oyo_UPI_Lag_3'] = df['OYO_UPI'].shift(3)\n",
    "df['Oyo_CARD_Lag_3'] = df['OYO_CARD'].shift(3)\n",
    "df['OYO_ONLINE PAID_Lag_3'] = df['OYO_ONLINE PAID'].shift(3)\n",
    "df['Walkin_CASH_Lag_3'] = df['Walkin_CASH'].shift(3)\n",
    "df['Walkin_UPI_Lag_3'] = df['Walkin_UPI'].shift(3)\n",
    "df['Walkin_CARD_Lag_3'] = df['Walkin_CARD'].shift(3)\n",
    "df['EXPENSES_Lag_3'] = df['EXPENSES'].shift(3)\n",
    "'''\n",
    "y(hardcover) = w*time+b\n",
    "\n",
    "y(hardcover) = w1*time+w2*previous_day_sales+w3*previous_two_day_sales\n",
    "\n",
    "'''"
   ]
  },
  {
   "cell_type": "code",
   "execution_count": 11,
   "id": "02a5f20c-e071-4025-bec2-e060228e9f9f",
   "metadata": {},
   "outputs": [
    {
     "data": {
      "text/html": [
       "<div>\n",
       "<style scoped>\n",
       "    .dataframe tbody tr th:only-of-type {\n",
       "        vertical-align: middle;\n",
       "    }\n",
       "\n",
       "    .dataframe tbody tr th {\n",
       "        vertical-align: top;\n",
       "    }\n",
       "\n",
       "    .dataframe thead th {\n",
       "        text-align: right;\n",
       "    }\n",
       "</style>\n",
       "<table border=\"1\" class=\"dataframe\">\n",
       "  <thead>\n",
       "    <tr style=\"text-align: right;\">\n",
       "      <th></th>\n",
       "      <th>OYO_CASH</th>\n",
       "      <th>OYO_UPI</th>\n",
       "      <th>OYO_CARD</th>\n",
       "      <th>OYO_ONLINE PAID</th>\n",
       "      <th>Walkin_CASH</th>\n",
       "      <th>Walkin_UPI</th>\n",
       "      <th>Walkin_CARD</th>\n",
       "      <th>EXPENSES</th>\n",
       "      <th>Total Sale</th>\n",
       "      <th>Time</th>\n",
       "      <th>...</th>\n",
       "      <th>Walkin_CARD_Lag_2</th>\n",
       "      <th>EXPENSES_Lag_2</th>\n",
       "      <th>Oyo_Cash_Lag_3</th>\n",
       "      <th>Oyo_UPI_Lag_3</th>\n",
       "      <th>Oyo_CARD_Lag_3</th>\n",
       "      <th>OYO_ONLINE PAID_Lag_3</th>\n",
       "      <th>Walkin_CASH_Lag_3</th>\n",
       "      <th>Walkin_UPI_Lag_3</th>\n",
       "      <th>Walkin_CARD_Lag_3</th>\n",
       "      <th>EXPENSES_Lag_3</th>\n",
       "    </tr>\n",
       "  </thead>\n",
       "  <tbody>\n",
       "    <tr>\n",
       "      <th>0</th>\n",
       "      <td>2071</td>\n",
       "      <td>8678</td>\n",
       "      <td>5125</td>\n",
       "      <td>6139</td>\n",
       "      <td>800</td>\n",
       "      <td>16100</td>\n",
       "      <td>2300</td>\n",
       "      <td>1070</td>\n",
       "      <td>41213</td>\n",
       "      <td>0</td>\n",
       "      <td>...</td>\n",
       "      <td>NaN</td>\n",
       "      <td>NaN</td>\n",
       "      <td>NaN</td>\n",
       "      <td>NaN</td>\n",
       "      <td>NaN</td>\n",
       "      <td>NaN</td>\n",
       "      <td>NaN</td>\n",
       "      <td>NaN</td>\n",
       "      <td>NaN</td>\n",
       "      <td>NaN</td>\n",
       "    </tr>\n",
       "    <tr>\n",
       "      <th>1</th>\n",
       "      <td>1200</td>\n",
       "      <td>6781</td>\n",
       "      <td>1677</td>\n",
       "      <td>2954</td>\n",
       "      <td>18300</td>\n",
       "      <td>7000</td>\n",
       "      <td>2000</td>\n",
       "      <td>2900</td>\n",
       "      <td>39912</td>\n",
       "      <td>1</td>\n",
       "      <td>...</td>\n",
       "      <td>NaN</td>\n",
       "      <td>NaN</td>\n",
       "      <td>NaN</td>\n",
       "      <td>NaN</td>\n",
       "      <td>NaN</td>\n",
       "      <td>NaN</td>\n",
       "      <td>NaN</td>\n",
       "      <td>NaN</td>\n",
       "      <td>NaN</td>\n",
       "      <td>NaN</td>\n",
       "    </tr>\n",
       "    <tr>\n",
       "      <th>2</th>\n",
       "      <td>2399</td>\n",
       "      <td>9398</td>\n",
       "      <td>0</td>\n",
       "      <td>1233</td>\n",
       "      <td>6900</td>\n",
       "      <td>14200</td>\n",
       "      <td>3200</td>\n",
       "      <td>2035</td>\n",
       "      <td>37330</td>\n",
       "      <td>2</td>\n",
       "      <td>...</td>\n",
       "      <td>2300.0</td>\n",
       "      <td>1070.0</td>\n",
       "      <td>NaN</td>\n",
       "      <td>NaN</td>\n",
       "      <td>NaN</td>\n",
       "      <td>NaN</td>\n",
       "      <td>NaN</td>\n",
       "      <td>NaN</td>\n",
       "      <td>NaN</td>\n",
       "      <td>NaN</td>\n",
       "    </tr>\n",
       "    <tr>\n",
       "      <th>3</th>\n",
       "      <td>1218</td>\n",
       "      <td>6808</td>\n",
       "      <td>0</td>\n",
       "      <td>1786</td>\n",
       "      <td>19500</td>\n",
       "      <td>8952</td>\n",
       "      <td>1120</td>\n",
       "      <td>3510</td>\n",
       "      <td>39384</td>\n",
       "      <td>3</td>\n",
       "      <td>...</td>\n",
       "      <td>2000.0</td>\n",
       "      <td>2900.0</td>\n",
       "      <td>2071.0</td>\n",
       "      <td>8678.0</td>\n",
       "      <td>5125.0</td>\n",
       "      <td>6139.0</td>\n",
       "      <td>800.0</td>\n",
       "      <td>16100.0</td>\n",
       "      <td>2300.0</td>\n",
       "      <td>1070.0</td>\n",
       "    </tr>\n",
       "    <tr>\n",
       "      <th>4</th>\n",
       "      <td>2369</td>\n",
       "      <td>7750</td>\n",
       "      <td>0</td>\n",
       "      <td>4100</td>\n",
       "      <td>12700</td>\n",
       "      <td>9700</td>\n",
       "      <td>0</td>\n",
       "      <td>2440</td>\n",
       "      <td>36619</td>\n",
       "      <td>4</td>\n",
       "      <td>...</td>\n",
       "      <td>3200.0</td>\n",
       "      <td>2035.0</td>\n",
       "      <td>1200.0</td>\n",
       "      <td>6781.0</td>\n",
       "      <td>1677.0</td>\n",
       "      <td>2954.0</td>\n",
       "      <td>18300.0</td>\n",
       "      <td>7000.0</td>\n",
       "      <td>2000.0</td>\n",
       "      <td>2900.0</td>\n",
       "    </tr>\n",
       "  </tbody>\n",
       "</table>\n",
       "<p>5 rows × 34 columns</p>\n",
       "</div>"
      ],
      "text/plain": [
       "   OYO_CASH  OYO_UPI  OYO_CARD  OYO_ONLINE PAID  Walkin_CASH  Walkin_UPI  \\\n",
       "0      2071     8678      5125             6139          800       16100   \n",
       "1      1200     6781      1677             2954        18300        7000   \n",
       "2      2399     9398         0             1233         6900       14200   \n",
       "3      1218     6808         0             1786        19500        8952   \n",
       "4      2369     7750         0             4100        12700        9700   \n",
       "\n",
       "   Walkin_CARD  EXPENSES  Total Sale  Time  ...  Walkin_CARD_Lag_2  \\\n",
       "0         2300      1070       41213     0  ...                NaN   \n",
       "1         2000      2900       39912     1  ...                NaN   \n",
       "2         3200      2035       37330     2  ...             2300.0   \n",
       "3         1120      3510       39384     3  ...             2000.0   \n",
       "4            0      2440       36619     4  ...             3200.0   \n",
       "\n",
       "   EXPENSES_Lag_2  Oyo_Cash_Lag_3  Oyo_UPI_Lag_3  Oyo_CARD_Lag_3  \\\n",
       "0             NaN             NaN            NaN             NaN   \n",
       "1             NaN             NaN            NaN             NaN   \n",
       "2          1070.0             NaN            NaN             NaN   \n",
       "3          2900.0          2071.0         8678.0          5125.0   \n",
       "4          2035.0          1200.0         6781.0          1677.0   \n",
       "\n",
       "   OYO_ONLINE PAID_Lag_3  Walkin_CASH_Lag_3  Walkin_UPI_Lag_3  \\\n",
       "0                    NaN                NaN               NaN   \n",
       "1                    NaN                NaN               NaN   \n",
       "2                    NaN                NaN               NaN   \n",
       "3                 6139.0              800.0           16100.0   \n",
       "4                 2954.0            18300.0            7000.0   \n",
       "\n",
       "   Walkin_CARD_Lag_3  EXPENSES_Lag_3  \n",
       "0                NaN             NaN  \n",
       "1                NaN             NaN  \n",
       "2                NaN             NaN  \n",
       "3             2300.0          1070.0  \n",
       "4             2000.0          2900.0  \n",
       "\n",
       "[5 rows x 34 columns]"
      ]
     },
     "execution_count": 11,
     "metadata": {},
     "output_type": "execute_result"
    }
   ],
   "source": [
    "df.head()"
   ]
  },
  {
   "cell_type": "code",
   "execution_count": 12,
   "id": "f08fe2d2-8191-4d14-930a-fbd84eff0940",
   "metadata": {},
   "outputs": [
    {
     "name": "stdout",
     "output_type": "stream",
     "text": [
      "<class 'pandas.core.frame.DataFrame'>\n",
      "RangeIndex: 30 entries, 0 to 29\n",
      "Data columns (total 34 columns):\n",
      " #   Column                 Non-Null Count  Dtype  \n",
      "---  ------                 --------------  -----  \n",
      " 0   OYO_CASH               30 non-null     int64  \n",
      " 1   OYO_UPI                30 non-null     int64  \n",
      " 2   OYO_CARD               30 non-null     int64  \n",
      " 3   OYO_ONLINE PAID        30 non-null     int64  \n",
      " 4   Walkin_CASH            30 non-null     int64  \n",
      " 5   Walkin_UPI             30 non-null     int64  \n",
      " 6   Walkin_CARD            30 non-null     int64  \n",
      " 7   EXPENSES               30 non-null     int64  \n",
      " 8   Total Sale             30 non-null     int64  \n",
      " 9   Time                   30 non-null     int32  \n",
      " 10  Oyo_Cash_Lag_1         29 non-null     float64\n",
      " 11  Oyo_UPI_Lag_1          29 non-null     float64\n",
      " 12  Oyo_CARD_Lag_1         29 non-null     float64\n",
      " 13  OYO_ONLINE PAID_Lag_1  29 non-null     float64\n",
      " 14  Walkin_CASH_Lag_1      29 non-null     float64\n",
      " 15  Walkin_UPI_Lag_1       29 non-null     float64\n",
      " 16  Walkin_CARD_Lag_1      29 non-null     float64\n",
      " 17  EXPENSES_Lag_1         29 non-null     float64\n",
      " 18  Oyo_Cash_Lag_2         28 non-null     float64\n",
      " 19  Oyo_UPI_Lag_2          28 non-null     float64\n",
      " 20  Oyo_CARD_Lag_2         28 non-null     float64\n",
      " 21  OYO_ONLINE PAID_Lag_2  28 non-null     float64\n",
      " 22  Walkin_CASH_Lag_2      28 non-null     float64\n",
      " 23  Walkin_UPI_Lag_2       28 non-null     float64\n",
      " 24  Walkin_CARD_Lag_2      28 non-null     float64\n",
      " 25  EXPENSES_Lag_2         28 non-null     float64\n",
      " 26  Oyo_Cash_Lag_3         27 non-null     float64\n",
      " 27  Oyo_UPI_Lag_3          27 non-null     float64\n",
      " 28  Oyo_CARD_Lag_3         27 non-null     float64\n",
      " 29  OYO_ONLINE PAID_Lag_3  27 non-null     float64\n",
      " 30  Walkin_CASH_Lag_3      27 non-null     float64\n",
      " 31  Walkin_UPI_Lag_3       27 non-null     float64\n",
      " 32  Walkin_CARD_Lag_3      27 non-null     float64\n",
      " 33  EXPENSES_Lag_3         27 non-null     float64\n",
      "dtypes: float64(24), int32(1), int64(9)\n",
      "memory usage: 8.0 KB\n"
     ]
    }
   ],
   "source": [
    "df.info()"
   ]
  },
  {
   "cell_type": "code",
   "execution_count": 13,
   "id": "bb90a781-ba57-4602-a062-b2d83fd17916",
   "metadata": {},
   "outputs": [],
   "source": [
    "df['Oyo_Cash_Lag_1'] = df['Oyo_Cash_Lag_1'].fillna(0.0)\n",
    "df['Oyo_UPI_Lag_1'] = df['Oyo_UPI_Lag_1'].fillna(0.0)\n",
    "df['Oyo_CARD_Lag_1'] = df['Oyo_CARD_Lag_1'].fillna(0.0)\n",
    "df['OYO_ONLINE PAID_Lag_1'] = df['OYO_ONLINE PAID_Lag_1'].fillna(0.0)\n",
    "df['Walkin_CASH_Lag_1'] = df['Walkin_CASH_Lag_1'].fillna(0.0)\n",
    "df['Walkin_UPI_Lag_1'] = df['Walkin_UPI_Lag_1'].fillna(0.0)\n",
    "df['Walkin_CARD_Lag_1'] = df['Walkin_CARD_Lag_1'].fillna(0.0)\n",
    "df['EXPENSES_Lag_1'] = df['EXPENSES_Lag_1'].fillna(0.0)\n",
    "df['Oyo_Cash_Lag_2'] = df['Oyo_Cash_Lag_2'].fillna(0.0)\n",
    "df['Oyo_UPI_Lag_2'] = df['Oyo_UPI_Lag_2'].fillna(0.0)\n",
    "df['Oyo_CARD_Lag_2'] = df['Oyo_CARD_Lag_2'].fillna(0.0)\n",
    "df['OYO_ONLINE PAID_Lag_2'] = df['OYO_ONLINE PAID_Lag_2'].fillna(0.0)\n",
    "df['Walkin_CASH_Lag_2'] = df['Walkin_CASH_Lag_2'].fillna(0.0)\n",
    "df['Walkin_UPI_Lag_2'] = df['Walkin_UPI_Lag_2'].fillna(0.0)\n",
    "df['Walkin_CARD_Lag_2'] = df['Walkin_CARD_Lag_2'].fillna(0.0)\n",
    "df['EXPENSES_Lag_2'] = df['EXPENSES_Lag_2'].fillna(0.0)\n",
    "df['Oyo_Cash_Lag_3'] = df['OYO_CASH'].fillna(0.0)\n",
    "df['Oyo_UPI_Lag_3'] = df['OYO_UPI'].fillna(0.0)\n",
    "df['Oyo_CARD_Lag_3'] = df['OYO_CARD'].fillna(0.0)\n",
    "df['OYO_ONLINE PAID_Lag_3'] = df['OYO_ONLINE PAID'].fillna(0.0)\n",
    "df['Walkin_CASH_Lag_3'] = df['Walkin_CASH'].fillna(0.0)\n",
    "df['Walkin_UPI_Lag_3'] = df['Walkin_UPI'].fillna(0.0)\n",
    "df['Walkin_CARD_Lag_3'] = df['Walkin_CARD'].fillna(0.0)\n",
    "df['EXPENSES_Lag_3'] = df['EXPENSES'].fillna(0.0)"
   ]
  },
  {
   "cell_type": "code",
   "execution_count": 14,
   "id": "819b61b8-ed27-4f8b-bba2-bb29180a13e9",
   "metadata": {},
   "outputs": [],
   "source": [
    "# Split data into training and testing sets\n",
    "df_train = df.iloc[:20]\n",
    "df_test = df.iloc[21:]"
   ]
  },
  {
   "cell_type": "code",
   "execution_count": 15,
   "id": "4e126544-b091-48dc-ac2c-074078df3afa",
   "metadata": {},
   "outputs": [],
   "source": [
    "df_train = df_train.reset_index(drop=True)\n",
    "X_train = df_train.loc[:,['Time','Oyo_Cash_Lag_1','Oyo_UPI_Lag_1','Oyo_CARD_Lag_1','OYO_ONLINE PAID_Lag_1','Walkin_CASH_Lag_1','Walkin_UPI_Lag_1',\n",
    "                          'Walkin_CARD_Lag_1','EXPENSES_Lag_1','Time','Oyo_Cash_Lag_2','Oyo_UPI_Lag_2','Oyo_CARD_Lag_2','OYO_ONLINE PAID_Lag_2',\n",
    "                          'Walkin_CASH_Lag_2','Walkin_UPI_Lag_2','Walkin_CARD_Lag_2','EXPENSES_Lag_2','Oyo_Cash_Lag_3','Oyo_UPI_Lag_3','Oyo_CARD_Lag_3',\n",
    "                          'OYO_ONLINE PAID_Lag_3','Walkin_CASH_Lag_3','Walkin_UPI_Lag_3','Walkin_CARD_Lag_3','EXPENSES_Lag_3']]\n",
    "y_train = df_train.loc[:,['Total Sale']]\n",
    "\n",
    "X_test = df_test.loc[:,['Time','Oyo_Cash_Lag_1','Oyo_UPI_Lag_1','Oyo_CARD_Lag_1','OYO_ONLINE PAID_Lag_1','Walkin_CASH_Lag_1','Walkin_UPI_Lag_1',\n",
    "                          'Walkin_CARD_Lag_1','EXPENSES_Lag_1','Time','Oyo_Cash_Lag_2','Oyo_UPI_Lag_2','Oyo_CARD_Lag_2','OYO_ONLINE PAID_Lag_2',\n",
    "                          'Walkin_CASH_Lag_2','Walkin_UPI_Lag_2','Walkin_CARD_Lag_2','EXPENSES_Lag_2','Oyo_Cash_Lag_3','Oyo_UPI_Lag_3','Oyo_CARD_Lag_3',\n",
    "                          'OYO_ONLINE PAID_Lag_3','Walkin_CASH_Lag_3','Walkin_UPI_Lag_3','Walkin_CARD_Lag_3','EXPENSES_Lag_3']]\n",
    "y_test = df_test.loc[:,['Total Sale']]"
   ]
  },
  {
   "cell_type": "code",
   "execution_count": 16,
   "id": "d750315e-a15c-44a7-8ff1-a04251583aff",
   "metadata": {
    "scrolled": true
   },
   "outputs": [
    {
     "data": {
      "text/html": [
       "<style>#sk-container-id-1 {color: black;background-color: white;}#sk-container-id-1 pre{padding: 0;}#sk-container-id-1 div.sk-toggleable {background-color: white;}#sk-container-id-1 label.sk-toggleable__label {cursor: pointer;display: block;width: 100%;margin-bottom: 0;padding: 0.3em;box-sizing: border-box;text-align: center;}#sk-container-id-1 label.sk-toggleable__label-arrow:before {content: \"▸\";float: left;margin-right: 0.25em;color: #696969;}#sk-container-id-1 label.sk-toggleable__label-arrow:hover:before {color: black;}#sk-container-id-1 div.sk-estimator:hover label.sk-toggleable__label-arrow:before {color: black;}#sk-container-id-1 div.sk-toggleable__content {max-height: 0;max-width: 0;overflow: hidden;text-align: left;background-color: #f0f8ff;}#sk-container-id-1 div.sk-toggleable__content pre {margin: 0.2em;color: black;border-radius: 0.25em;background-color: #f0f8ff;}#sk-container-id-1 input.sk-toggleable__control:checked~div.sk-toggleable__content {max-height: 200px;max-width: 100%;overflow: auto;}#sk-container-id-1 input.sk-toggleable__control:checked~label.sk-toggleable__label-arrow:before {content: \"▾\";}#sk-container-id-1 div.sk-estimator input.sk-toggleable__control:checked~label.sk-toggleable__label {background-color: #d4ebff;}#sk-container-id-1 div.sk-label input.sk-toggleable__control:checked~label.sk-toggleable__label {background-color: #d4ebff;}#sk-container-id-1 input.sk-hidden--visually {border: 0;clip: rect(1px 1px 1px 1px);clip: rect(1px, 1px, 1px, 1px);height: 1px;margin: -1px;overflow: hidden;padding: 0;position: absolute;width: 1px;}#sk-container-id-1 div.sk-estimator {font-family: monospace;background-color: #f0f8ff;border: 1px dotted black;border-radius: 0.25em;box-sizing: border-box;margin-bottom: 0.5em;}#sk-container-id-1 div.sk-estimator:hover {background-color: #d4ebff;}#sk-container-id-1 div.sk-parallel-item::after {content: \"\";width: 100%;border-bottom: 1px solid gray;flex-grow: 1;}#sk-container-id-1 div.sk-label:hover label.sk-toggleable__label {background-color: #d4ebff;}#sk-container-id-1 div.sk-serial::before {content: \"\";position: absolute;border-left: 1px solid gray;box-sizing: border-box;top: 0;bottom: 0;left: 50%;z-index: 0;}#sk-container-id-1 div.sk-serial {display: flex;flex-direction: column;align-items: center;background-color: white;padding-right: 0.2em;padding-left: 0.2em;position: relative;}#sk-container-id-1 div.sk-item {position: relative;z-index: 1;}#sk-container-id-1 div.sk-parallel {display: flex;align-items: stretch;justify-content: center;background-color: white;position: relative;}#sk-container-id-1 div.sk-item::before, #sk-container-id-1 div.sk-parallel-item::before {content: \"\";position: absolute;border-left: 1px solid gray;box-sizing: border-box;top: 0;bottom: 0;left: 50%;z-index: -1;}#sk-container-id-1 div.sk-parallel-item {display: flex;flex-direction: column;z-index: 1;position: relative;background-color: white;}#sk-container-id-1 div.sk-parallel-item:first-child::after {align-self: flex-end;width: 50%;}#sk-container-id-1 div.sk-parallel-item:last-child::after {align-self: flex-start;width: 50%;}#sk-container-id-1 div.sk-parallel-item:only-child::after {width: 0;}#sk-container-id-1 div.sk-dashed-wrapped {border: 1px dashed gray;margin: 0 0.4em 0.5em 0.4em;box-sizing: border-box;padding-bottom: 0.4em;background-color: white;}#sk-container-id-1 div.sk-label label {font-family: monospace;font-weight: bold;display: inline-block;line-height: 1.2em;}#sk-container-id-1 div.sk-label-container {text-align: center;}#sk-container-id-1 div.sk-container {/* jupyter's `normalize.less` sets `[hidden] { display: none; }` but bootstrap.min.css set `[hidden] { display: none !important; }` so we also need the `!important` here to be able to override the default hidden behavior on the sphinx rendered scikit-learn.org. See: https://github.com/scikit-learn/scikit-learn/issues/21755 */display: inline-block !important;position: relative;}#sk-container-id-1 div.sk-text-repr-fallback {display: none;}</style><div id=\"sk-container-id-1\" class=\"sk-top-container\"><div class=\"sk-text-repr-fallback\"><pre>LinearRegression()</pre><b>In a Jupyter environment, please rerun this cell to show the HTML representation or trust the notebook. <br />On GitHub, the HTML representation is unable to render, please try loading this page with nbviewer.org.</b></div><div class=\"sk-container\" hidden><div class=\"sk-item\"><div class=\"sk-estimator sk-toggleable\"><input class=\"sk-toggleable__control sk-hidden--visually\" id=\"sk-estimator-id-1\" type=\"checkbox\" checked><label for=\"sk-estimator-id-1\" class=\"sk-toggleable__label sk-toggleable__label-arrow\">LinearRegression</label><div class=\"sk-toggleable__content\"><pre>LinearRegression()</pre></div></div></div></div></div>"
      ],
      "text/plain": [
       "LinearRegression()"
      ]
     },
     "execution_count": 16,
     "metadata": {},
     "output_type": "execute_result"
    }
   ],
   "source": [
    "# Train the model\n",
    "model = LinearRegression()\n",
    "model.fit(X_train,y_train)"
   ]
  },
  {
   "cell_type": "code",
   "execution_count": 17,
   "id": "3c780b15-6b20-403c-aff5-67c9c519f9cf",
   "metadata": {},
   "outputs": [],
   "source": [
    "# Predict sales for the train set\n",
    "y_pred_train = model.predict(X_train)\n"
   ]
  },
  {
   "cell_type": "code",
   "execution_count": 18,
   "id": "8c05885d-36bb-43c6-8c50-e8e6e2a7f4ec",
   "metadata": {},
   "outputs": [],
   "source": [
    "# Predict sales for the test set\n",
    "y_pred = model.predict(X_test)\n"
   ]
  },
  {
   "cell_type": "code",
   "execution_count": 19,
   "id": "319d36a1-a5ea-481f-ba14-6b8abe4466cb",
   "metadata": {},
   "outputs": [
    {
     "name": "stdout",
     "output_type": "stream",
     "text": [
      "Mean Absolute Error: 8.549250196665526e-12\n"
     ]
    }
   ],
   "source": [
    "# Evaluate the model\n",
    "mae = mean_absolute_error(y_train, y_pred_train)\n",
    "print(f'Mean Absolute Error: {mae}')\n"
   ]
  },
  {
   "cell_type": "code",
   "execution_count": 20,
   "id": "13dcdf2f-d0be-42f8-8990-e59bdb153216",
   "metadata": {},
   "outputs": [
    {
     "name": "stdout",
     "output_type": "stream",
     "text": [
      "Mean Absolute Error: 613.7512696064522\n"
     ]
    }
   ],
   "source": [
    "# Evaluate the model\n",
    "mae = mean_absolute_error(y_test, y_pred)\n",
    "print(f'Mean Absolute Error: {mae}')"
   ]
  },
  {
   "cell_type": "code",
   "execution_count": 21,
   "id": "4cc3c165-3243-4fa0-a768-901e45166dba",
   "metadata": {},
   "outputs": [
    {
     "data": {
      "text/plain": [
       "1.0"
      ]
     },
     "execution_count": 21,
     "metadata": {},
     "output_type": "execute_result"
    }
   ],
   "source": [
    "from sklearn.metrics import r2_score\n",
    "r2_score(y_train,y_pred_train)"
   ]
  },
  {
   "cell_type": "code",
   "execution_count": 22,
   "id": "ae019a84-3ff5-462d-aaf9-aa50c7583e65",
   "metadata": {},
   "outputs": [
    {
     "data": {
      "text/plain": [
       "0.9904400646024646"
      ]
     },
     "execution_count": 22,
     "metadata": {},
     "output_type": "execute_result"
    }
   ],
   "source": [
    "from sklearn.metrics import r2_score\n",
    "r2_score(y_test,y_pred)"
   ]
  },
  {
   "cell_type": "code",
   "execution_count": 23,
   "id": "851abf5b-0aa3-44da-bfaf-0c5e2a8d3e97",
   "metadata": {},
   "outputs": [
    {
     "name": "stdout",
     "output_type": "stream",
     "text": [
      "Cross-validation scores:[-15.94546393   0.8510933    0.1508934    0.85210836   0.61377904]\n"
     ]
    }
   ],
   "source": [
    "from sklearn.model_selection import cross_val_score\n",
    "from sklearn.model_selection import GridSearchCV\n",
    "\n",
    "scores = cross_val_score(model, X_train, y_train, cv = 5, scoring='r2')\n",
    "\n",
    "print('Cross-validation scores:{}'.format(scores))"
   ]
  },
  {
   "cell_type": "code",
   "execution_count": 24,
   "id": "91037b48-31fb-4071-9b20-6764ba63e169",
   "metadata": {},
   "outputs": [
    {
     "name": "stdout",
     "output_type": "stream",
     "text": [
      "Average cross-validation score: -2.6955\n"
     ]
    }
   ],
   "source": [
    "# compute Average cross-validation score\n",
    "\n",
    "print('Average cross-validation score: {:.4f}'.format(scores.mean()))"
   ]
  },
  {
   "cell_type": "code",
   "execution_count": 25,
   "id": "0983299c-e653-48d7-bf9c-20b74353e1dd",
   "metadata": {},
   "outputs": [
    {
     "name": "stdout",
     "output_type": "stream",
     "text": [
      "Best parameters found:  {'alpha': 20}\n",
      "Best R2 score found:  -2.695516409790371\n"
     ]
    },
    {
     "name": "stderr",
     "output_type": "stream",
     "text": [
      "C:\\Users\\Sushmita\\anaconda3\\Anaconda\\Lib\\site-packages\\sklearn\\linear_model\\_ridge.py:253: LinAlgWarning: Ill-conditioned matrix (rcond=2.56517e-18): result may not be accurate.\n",
      "  dual_coef = linalg.solve(K, y, assume_a=\"pos\", overwrite_a=False)\n",
      "C:\\Users\\Sushmita\\anaconda3\\Anaconda\\Lib\\site-packages\\sklearn\\linear_model\\_ridge.py:255: UserWarning: Singular matrix in solving dual problem. Using least-squares solution instead.\n",
      "  warnings.warn(\n",
      "C:\\Users\\Sushmita\\anaconda3\\Anaconda\\Lib\\site-packages\\sklearn\\linear_model\\_ridge.py:255: UserWarning: Singular matrix in solving dual problem. Using least-squares solution instead.\n",
      "  warnings.warn(\n",
      "C:\\Users\\Sushmita\\anaconda3\\Anaconda\\Lib\\site-packages\\sklearn\\linear_model\\_ridge.py:255: UserWarning: Singular matrix in solving dual problem. Using least-squares solution instead.\n",
      "  warnings.warn(\n",
      "C:\\Users\\Sushmita\\anaconda3\\Anaconda\\Lib\\site-packages\\sklearn\\linear_model\\_ridge.py:253: LinAlgWarning: Ill-conditioned matrix (rcond=3.0471e-18): result may not be accurate.\n",
      "  dual_coef = linalg.solve(K, y, assume_a=\"pos\", overwrite_a=False)\n",
      "C:\\Users\\Sushmita\\anaconda3\\Anaconda\\Lib\\site-packages\\sklearn\\linear_model\\_ridge.py:253: LinAlgWarning: Ill-conditioned matrix (rcond=2.56517e-18): result may not be accurate.\n",
      "  dual_coef = linalg.solve(K, y, assume_a=\"pos\", overwrite_a=False)\n",
      "C:\\Users\\Sushmita\\anaconda3\\Anaconda\\Lib\\site-packages\\sklearn\\linear_model\\_ridge.py:255: UserWarning: Singular matrix in solving dual problem. Using least-squares solution instead.\n",
      "  warnings.warn(\n",
      "C:\\Users\\Sushmita\\anaconda3\\Anaconda\\Lib\\site-packages\\sklearn\\linear_model\\_ridge.py:255: UserWarning: Singular matrix in solving dual problem. Using least-squares solution instead.\n",
      "  warnings.warn(\n",
      "C:\\Users\\Sushmita\\anaconda3\\Anaconda\\Lib\\site-packages\\sklearn\\linear_model\\_ridge.py:255: UserWarning: Singular matrix in solving dual problem. Using least-squares solution instead.\n",
      "  warnings.warn(\n",
      "C:\\Users\\Sushmita\\anaconda3\\Anaconda\\Lib\\site-packages\\sklearn\\linear_model\\_ridge.py:253: LinAlgWarning: Ill-conditioned matrix (rcond=3.0471e-18): result may not be accurate.\n",
      "  dual_coef = linalg.solve(K, y, assume_a=\"pos\", overwrite_a=False)\n",
      "C:\\Users\\Sushmita\\anaconda3\\Anaconda\\Lib\\site-packages\\sklearn\\linear_model\\_ridge.py:255: UserWarning: Singular matrix in solving dual problem. Using least-squares solution instead.\n",
      "  warnings.warn(\n",
      "C:\\Users\\Sushmita\\anaconda3\\Anaconda\\Lib\\site-packages\\sklearn\\linear_model\\_ridge.py:255: UserWarning: Singular matrix in solving dual problem. Using least-squares solution instead.\n",
      "  warnings.warn(\n",
      "C:\\Users\\Sushmita\\anaconda3\\Anaconda\\Lib\\site-packages\\sklearn\\linear_model\\_ridge.py:255: UserWarning: Singular matrix in solving dual problem. Using least-squares solution instead.\n",
      "  warnings.warn(\n",
      "C:\\Users\\Sushmita\\anaconda3\\Anaconda\\Lib\\site-packages\\sklearn\\linear_model\\_ridge.py:255: UserWarning: Singular matrix in solving dual problem. Using least-squares solution instead.\n",
      "  warnings.warn(\n",
      "C:\\Users\\Sushmita\\anaconda3\\Anaconda\\Lib\\site-packages\\sklearn\\linear_model\\_ridge.py:253: LinAlgWarning: Ill-conditioned matrix (rcond=3.0471e-18): result may not be accurate.\n",
      "  dual_coef = linalg.solve(K, y, assume_a=\"pos\", overwrite_a=False)\n"
     ]
    }
   ],
   "source": [
    "from sklearn.linear_model import Ridge\n",
    "from sklearn.model_selection import GridSearchCV\n",
    "\n",
    "parameters = {'alpha': [1e-15, 1e-10, 1e-8, 1e-4, 1e-3, 1e-2, 1, 5, 10, 20]}\n",
    "ridge = Ridge()\n",
    "\n",
    "grid_search = GridSearchCV(estimator=ridge, param_grid=parameters, scoring='r2', cv=5)\n",
    "grid_search.fit(X_train, y_train)\n",
    "\n",
    "print(\"Best parameters found: \", grid_search.best_params_)\n",
    "print(\"Best R2 score found: \", grid_search.best_score_)\n"
   ]
  },
  {
   "cell_type": "code",
   "execution_count": 26,
   "id": "b959d4ef-e0bc-4c13-b474-331b5a343101",
   "metadata": {},
   "outputs": [],
   "source": [
    "# # Predict sales for the next month\n",
    "# future_dates = pd.date_range(data['DATE'].max() + pd.Timedelta(days=1), periods=30)\n",
    "# future_days_of_year = future_dates.dayofyear\n",
    "# future_X = pd.DataFrame({'day_of_year': future_days_of_year})\n",
    "\n",
    "# future_predictions = model.predict(future_X)"
   ]
  },
  {
   "cell_type": "code",
   "execution_count": 27,
   "id": "84202f59-e66b-445b-9476-26a285e5b60a",
   "metadata": {},
   "outputs": [],
   "source": [
    "# # Plot the results\n",
    "# plt.figure(figsize=(10, 6))\n",
    "# plt.plot(df['DATE'], df['Total Sale'], label='Historical Sales')\n",
    "# plt.plot(future_dates, future_predictions, label='Predicted Sales', linestyle='--')\n",
    "# plt.xlabel('Date')\n",
    "# plt.ylabel('Total Sale')\n",
    "# plt.title('Sales Prediction')\n",
    "# plt.legend()\n",
    "# plt.show()"
   ]
  },
  {
   "cell_type": "code",
   "execution_count": 28,
   "id": "4e37917f-a95c-49e9-a2d8-cad2b041f9c0",
   "metadata": {},
   "outputs": [],
   "source": [
    "# # Save predictions to Excel\n",
    "# predictions_df = pd.DataFrame({'DATE': future_dates, 'Predicted Sale': future_predictions})\n",
    "# predictions_df.to_csv('sales_predictions.xlsx', index=False)"
   ]
  },
  {
   "cell_type": "code",
   "execution_count": 29,
   "id": "7f90a5b4-b53d-44ca-9245-216793c6c167",
   "metadata": {},
   "outputs": [
    {
     "name": "stderr",
     "output_type": "stream",
     "text": [
      "C:\\Users\\Sushmita\\anaconda3\\Anaconda\\Lib\\site-packages\\sklearn\\ensemble\\_gb.py:437: DataConversionWarning: A column-vector y was passed when a 1d array was expected. Please change the shape of y to (n_samples, ), for example using ravel().\n",
      "  y = column_or_1d(y, warn=True)\n"
     ]
    },
    {
     "data": {
      "text/html": [
       "<style>#sk-container-id-2 {color: black;background-color: white;}#sk-container-id-2 pre{padding: 0;}#sk-container-id-2 div.sk-toggleable {background-color: white;}#sk-container-id-2 label.sk-toggleable__label {cursor: pointer;display: block;width: 100%;margin-bottom: 0;padding: 0.3em;box-sizing: border-box;text-align: center;}#sk-container-id-2 label.sk-toggleable__label-arrow:before {content: \"▸\";float: left;margin-right: 0.25em;color: #696969;}#sk-container-id-2 label.sk-toggleable__label-arrow:hover:before {color: black;}#sk-container-id-2 div.sk-estimator:hover label.sk-toggleable__label-arrow:before {color: black;}#sk-container-id-2 div.sk-toggleable__content {max-height: 0;max-width: 0;overflow: hidden;text-align: left;background-color: #f0f8ff;}#sk-container-id-2 div.sk-toggleable__content pre {margin: 0.2em;color: black;border-radius: 0.25em;background-color: #f0f8ff;}#sk-container-id-2 input.sk-toggleable__control:checked~div.sk-toggleable__content {max-height: 200px;max-width: 100%;overflow: auto;}#sk-container-id-2 input.sk-toggleable__control:checked~label.sk-toggleable__label-arrow:before {content: \"▾\";}#sk-container-id-2 div.sk-estimator input.sk-toggleable__control:checked~label.sk-toggleable__label {background-color: #d4ebff;}#sk-container-id-2 div.sk-label input.sk-toggleable__control:checked~label.sk-toggleable__label {background-color: #d4ebff;}#sk-container-id-2 input.sk-hidden--visually {border: 0;clip: rect(1px 1px 1px 1px);clip: rect(1px, 1px, 1px, 1px);height: 1px;margin: -1px;overflow: hidden;padding: 0;position: absolute;width: 1px;}#sk-container-id-2 div.sk-estimator {font-family: monospace;background-color: #f0f8ff;border: 1px dotted black;border-radius: 0.25em;box-sizing: border-box;margin-bottom: 0.5em;}#sk-container-id-2 div.sk-estimator:hover {background-color: #d4ebff;}#sk-container-id-2 div.sk-parallel-item::after {content: \"\";width: 100%;border-bottom: 1px solid gray;flex-grow: 1;}#sk-container-id-2 div.sk-label:hover label.sk-toggleable__label {background-color: #d4ebff;}#sk-container-id-2 div.sk-serial::before {content: \"\";position: absolute;border-left: 1px solid gray;box-sizing: border-box;top: 0;bottom: 0;left: 50%;z-index: 0;}#sk-container-id-2 div.sk-serial {display: flex;flex-direction: column;align-items: center;background-color: white;padding-right: 0.2em;padding-left: 0.2em;position: relative;}#sk-container-id-2 div.sk-item {position: relative;z-index: 1;}#sk-container-id-2 div.sk-parallel {display: flex;align-items: stretch;justify-content: center;background-color: white;position: relative;}#sk-container-id-2 div.sk-item::before, #sk-container-id-2 div.sk-parallel-item::before {content: \"\";position: absolute;border-left: 1px solid gray;box-sizing: border-box;top: 0;bottom: 0;left: 50%;z-index: -1;}#sk-container-id-2 div.sk-parallel-item {display: flex;flex-direction: column;z-index: 1;position: relative;background-color: white;}#sk-container-id-2 div.sk-parallel-item:first-child::after {align-self: flex-end;width: 50%;}#sk-container-id-2 div.sk-parallel-item:last-child::after {align-self: flex-start;width: 50%;}#sk-container-id-2 div.sk-parallel-item:only-child::after {width: 0;}#sk-container-id-2 div.sk-dashed-wrapped {border: 1px dashed gray;margin: 0 0.4em 0.5em 0.4em;box-sizing: border-box;padding-bottom: 0.4em;background-color: white;}#sk-container-id-2 div.sk-label label {font-family: monospace;font-weight: bold;display: inline-block;line-height: 1.2em;}#sk-container-id-2 div.sk-label-container {text-align: center;}#sk-container-id-2 div.sk-container {/* jupyter's `normalize.less` sets `[hidden] { display: none; }` but bootstrap.min.css set `[hidden] { display: none !important; }` so we also need the `!important` here to be able to override the default hidden behavior on the sphinx rendered scikit-learn.org. See: https://github.com/scikit-learn/scikit-learn/issues/21755 */display: inline-block !important;position: relative;}#sk-container-id-2 div.sk-text-repr-fallback {display: none;}</style><div id=\"sk-container-id-2\" class=\"sk-top-container\"><div class=\"sk-text-repr-fallback\"><pre>GradientBoostingRegressor(learning_rate=0.01, max_depth=4, random_state=12)</pre><b>In a Jupyter environment, please rerun this cell to show the HTML representation or trust the notebook. <br />On GitHub, the HTML representation is unable to render, please try loading this page with nbviewer.org.</b></div><div class=\"sk-container\" hidden><div class=\"sk-item\"><div class=\"sk-estimator sk-toggleable\"><input class=\"sk-toggleable__control sk-hidden--visually\" id=\"sk-estimator-id-2\" type=\"checkbox\" checked><label for=\"sk-estimator-id-2\" class=\"sk-toggleable__label sk-toggleable__label-arrow\">GradientBoostingRegressor</label><div class=\"sk-toggleable__content\"><pre>GradientBoostingRegressor(learning_rate=0.01, max_depth=4, random_state=12)</pre></div></div></div></div></div>"
      ],
      "text/plain": [
       "GradientBoostingRegressor(learning_rate=0.01, max_depth=4, random_state=12)"
      ]
     },
     "execution_count": 29,
     "metadata": {},
     "output_type": "execute_result"
    }
   ],
   "source": [
    "from sklearn.ensemble import GradientBoostingRegressor\n",
    "model1 = GradientBoostingRegressor(n_estimators=100, learning_rate=0.01, max_depth=4, random_state=12)\n",
    "\n",
    "\n",
    "model1.fit(X_train,y_train)"
   ]
  },
  {
   "cell_type": "code",
   "execution_count": 30,
   "id": "db5f3985-88a5-400f-b8ce-3b4cfd506a38",
   "metadata": {},
   "outputs": [],
   "source": [
    "# Predict sales for the train set\n",
    "y_pred_train = model1.predict(X_train)"
   ]
  },
  {
   "cell_type": "code",
   "execution_count": 31,
   "id": "e3b4b068-97b2-47a3-a4e7-b84520b0c713",
   "metadata": {},
   "outputs": [],
   "source": [
    "y_pred = model1.predict(X_test)\n"
   ]
  },
  {
   "cell_type": "code",
   "execution_count": 32,
   "id": "9cc16263-4819-4e50-b128-8394bd621619",
   "metadata": {},
   "outputs": [
    {
     "data": {
      "text/plain": [
       "0.8639399290544629"
      ]
     },
     "execution_count": 32,
     "metadata": {},
     "output_type": "execute_result"
    }
   ],
   "source": [
    "from sklearn.metrics import r2_score\n",
    "r2_score(y_train,y_pred_train)"
   ]
  },
  {
   "cell_type": "code",
   "execution_count": 33,
   "id": "8af8b8e1-85b5-45f1-ba6c-b26b4e76955d",
   "metadata": {},
   "outputs": [
    {
     "data": {
      "text/plain": [
       "-0.743244377611606"
      ]
     },
     "execution_count": 33,
     "metadata": {},
     "output_type": "execute_result"
    }
   ],
   "source": [
    "from sklearn.metrics import r2_score\n",
    "r2_score(y_test,y_pred)"
   ]
  },
  {
   "cell_type": "code",
   "execution_count": null,
   "id": "5aa19937-6730-4253-98c6-06a9acd863f4",
   "metadata": {},
   "outputs": [],
   "source": []
  }
 ],
 "metadata": {
  "kernelspec": {
   "display_name": "Python 3 (ipykernel)",
   "language": "python",
   "name": "python3"
  },
  "language_info": {
   "codemirror_mode": {
    "name": "ipython",
    "version": 3
   },
   "file_extension": ".py",
   "mimetype": "text/x-python",
   "name": "python",
   "nbconvert_exporter": "python",
   "pygments_lexer": "ipython3",
   "version": "3.11.7"
  }
 },
 "nbformat": 4,
 "nbformat_minor": 5
}

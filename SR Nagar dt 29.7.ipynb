{
 "cells": [
  {
   "cell_type": "code",
   "execution_count": 1,
   "id": "6c07e827-c480-42df-9c99-105f1bf54397",
   "metadata": {},
   "outputs": [],
   "source": [
    "import pandas as pd\n",
    "import numpy as np\n",
    "from sklearn.model_selection import train_test_split\n",
    "from sklearn.linear_model import LinearRegression\n",
    "from sklearn.metrics import mean_absolute_error\n",
    "import matplotlib.pyplot as plt"
   ]
  },
  {
   "cell_type": "code",
   "execution_count": 2,
   "id": "b4c3b6fb-5f8e-4808-8da2-ba501e933103",
   "metadata": {},
   "outputs": [],
   "source": [
    "df = pd.read_csv(\"C:\\\\Users\\\\Sushmita\\\\Downloads\\\\RCC_SRNagar-1.csv\")"
   ]
  },
  {
   "cell_type": "code",
   "execution_count": 3,
   "id": "bef67129-556c-4ef0-8ab3-aa365640d8ee",
   "metadata": {},
   "outputs": [
    {
     "data": {
      "text/html": [
       "<div>\n",
       "<style scoped>\n",
       "    .dataframe tbody tr th:only-of-type {\n",
       "        vertical-align: middle;\n",
       "    }\n",
       "\n",
       "    .dataframe tbody tr th {\n",
       "        vertical-align: top;\n",
       "    }\n",
       "\n",
       "    .dataframe thead th {\n",
       "        text-align: right;\n",
       "    }\n",
       "</style>\n",
       "<table border=\"1\" class=\"dataframe\">\n",
       "  <thead>\n",
       "    <tr style=\"text-align: right;\">\n",
       "      <th></th>\n",
       "      <th>DATE</th>\n",
       "      <th>Oyo_Trans</th>\n",
       "      <th>OYO_CASH</th>\n",
       "      <th>OYO_UPI</th>\n",
       "      <th>OYO_CARD</th>\n",
       "      <th>OYO_ONLINE PAID</th>\n",
       "      <th>WalkIn_Trans</th>\n",
       "      <th>Walkin_CASH</th>\n",
       "      <th>Walkin_UPI</th>\n",
       "      <th>Walkin_CARD</th>\n",
       "      <th>EXPENSES</th>\n",
       "      <th>Total Sale</th>\n",
       "      <th>Day close</th>\n",
       "      <th>Cash collected</th>\n",
       "    </tr>\n",
       "  </thead>\n",
       "  <tbody>\n",
       "    <tr>\n",
       "      <th>0</th>\n",
       "      <td>06-01-2024</td>\n",
       "      <td>15874</td>\n",
       "      <td>2071</td>\n",
       "      <td>8678</td>\n",
       "      <td>5125</td>\n",
       "      <td>6139</td>\n",
       "      <td>19200</td>\n",
       "      <td>800</td>\n",
       "      <td>16100</td>\n",
       "      <td>2300</td>\n",
       "      <td>1070</td>\n",
       "      <td>41213</td>\n",
       "      <td>34004</td>\n",
       "      <td>1801</td>\n",
       "    </tr>\n",
       "    <tr>\n",
       "      <th>1</th>\n",
       "      <td>06-02-2024</td>\n",
       "      <td>9658</td>\n",
       "      <td>1200</td>\n",
       "      <td>6781</td>\n",
       "      <td>1677</td>\n",
       "      <td>2954</td>\n",
       "      <td>27300</td>\n",
       "      <td>18300</td>\n",
       "      <td>7000</td>\n",
       "      <td>2000</td>\n",
       "      <td>2900</td>\n",
       "      <td>39912</td>\n",
       "      <td>34058</td>\n",
       "      <td>16600</td>\n",
       "    </tr>\n",
       "    <tr>\n",
       "      <th>2</th>\n",
       "      <td>06-03-2024</td>\n",
       "      <td>11797</td>\n",
       "      <td>2399</td>\n",
       "      <td>9398</td>\n",
       "      <td>0</td>\n",
       "      <td>1233</td>\n",
       "      <td>24300</td>\n",
       "      <td>6900</td>\n",
       "      <td>14200</td>\n",
       "      <td>3200</td>\n",
       "      <td>2035</td>\n",
       "      <td>37330</td>\n",
       "      <td>34062</td>\n",
       "      <td>7264</td>\n",
       "    </tr>\n",
       "    <tr>\n",
       "      <th>3</th>\n",
       "      <td>06-04-2024</td>\n",
       "      <td>8026</td>\n",
       "      <td>1218</td>\n",
       "      <td>6808</td>\n",
       "      <td>0</td>\n",
       "      <td>1786</td>\n",
       "      <td>29572</td>\n",
       "      <td>19500</td>\n",
       "      <td>8952</td>\n",
       "      <td>1120</td>\n",
       "      <td>3510</td>\n",
       "      <td>39384</td>\n",
       "      <td>34088</td>\n",
       "      <td>17208</td>\n",
       "    </tr>\n",
       "    <tr>\n",
       "      <th>4</th>\n",
       "      <td>06-05-2024</td>\n",
       "      <td>10119</td>\n",
       "      <td>2369</td>\n",
       "      <td>7750</td>\n",
       "      <td>0</td>\n",
       "      <td>4100</td>\n",
       "      <td>22400</td>\n",
       "      <td>12700</td>\n",
       "      <td>9700</td>\n",
       "      <td>0</td>\n",
       "      <td>2440</td>\n",
       "      <td>36619</td>\n",
       "      <td>30079</td>\n",
       "      <td>12629</td>\n",
       "    </tr>\n",
       "  </tbody>\n",
       "</table>\n",
       "</div>"
      ],
      "text/plain": [
       "         DATE  Oyo_Trans  OYO_CASH  OYO_UPI  OYO_CARD  OYO_ONLINE PAID  \\\n",
       "0  06-01-2024      15874      2071     8678      5125             6139   \n",
       "1  06-02-2024       9658      1200     6781      1677             2954   \n",
       "2  06-03-2024      11797      2399     9398         0             1233   \n",
       "3  06-04-2024       8026      1218     6808         0             1786   \n",
       "4  06-05-2024      10119      2369     7750         0             4100   \n",
       "\n",
       "   WalkIn_Trans  Walkin_CASH  Walkin_UPI  Walkin_CARD  EXPENSES  Total Sale  \\\n",
       "0         19200          800       16100         2300      1070       41213   \n",
       "1         27300        18300        7000         2000      2900       39912   \n",
       "2         24300         6900       14200         3200      2035       37330   \n",
       "3         29572        19500        8952         1120      3510       39384   \n",
       "4         22400        12700        9700            0      2440       36619   \n",
       "\n",
       "   Day close  Cash collected  \n",
       "0      34004            1801  \n",
       "1      34058           16600  \n",
       "2      34062            7264  \n",
       "3      34088           17208  \n",
       "4      30079           12629  "
      ]
     },
     "execution_count": 3,
     "metadata": {},
     "output_type": "execute_result"
    }
   ],
   "source": [
    "df.head()"
   ]
  },
  {
   "cell_type": "code",
   "execution_count": 4,
   "id": "7240d1ca-61d9-4541-8dd1-9e8038eb37f6",
   "metadata": {},
   "outputs": [
    {
     "name": "stdout",
     "output_type": "stream",
     "text": [
      "<class 'pandas.core.frame.DataFrame'>\n",
      "RangeIndex: 30 entries, 0 to 29\n",
      "Data columns (total 14 columns):\n",
      " #   Column           Non-Null Count  Dtype \n",
      "---  ------           --------------  ----- \n",
      " 0   DATE             30 non-null     object\n",
      " 1   Oyo_Trans        30 non-null     int64 \n",
      " 2   OYO_CASH         30 non-null     int64 \n",
      " 3   OYO_UPI          30 non-null     int64 \n",
      " 4   OYO_CARD         30 non-null     int64 \n",
      " 5   OYO_ONLINE PAID  30 non-null     int64 \n",
      " 6   WalkIn_Trans     30 non-null     int64 \n",
      " 7   Walkin_CASH      30 non-null     int64 \n",
      " 8   Walkin_UPI       30 non-null     int64 \n",
      " 9   Walkin_CARD      30 non-null     int64 \n",
      " 10  EXPENSES         30 non-null     int64 \n",
      " 11  Total Sale       30 non-null     int64 \n",
      " 12  Day close        30 non-null     int64 \n",
      " 13  Cash collected   30 non-null     int64 \n",
      "dtypes: int64(13), object(1)\n",
      "memory usage: 3.4+ KB\n"
     ]
    }
   ],
   "source": [
    "df.info()"
   ]
  },
  {
   "cell_type": "code",
   "execution_count": 5,
   "id": "7084d9a8-5dba-4fbf-a165-175ebbb484c4",
   "metadata": {},
   "outputs": [],
   "source": [
    "# Strip any leading/trailing whitespace from column names\n",
    "df.columns = df.columns.str.strip()\n",
    "\n",
    "# Convert the 'DATE' column to datetime format\n",
    "if 'DATE' in df.columns:\n",
    "    df['DATE'] = pd.to_datetime(df['DATE'])\n",
    "else:\n",
    "    # If 'DATE' column is not found, identify the correct column name\n",
    "    potential_date_columns = [col for col in data.columns if 'date' in col.lower()]\n",
    "    if potential_date_columns:\n",
    "        date_column = potential_date_columns[0]\n",
    "        data[date_column] = pd.to_datetime(data[date_column])\n",
    "    else:\n",
    "        raise KeyError(\"'DATE' column not found in the DataFrame\")"
   ]
  },
  {
   "cell_type": "code",
   "execution_count": 6,
   "id": "0181f52b-23e9-4e5d-a6e6-fc88189e2277",
   "metadata": {},
   "outputs": [
    {
     "name": "stdout",
     "output_type": "stream",
     "text": [
      "<class 'pandas.core.frame.DataFrame'>\n",
      "RangeIndex: 30 entries, 0 to 29\n",
      "Data columns (total 14 columns):\n",
      " #   Column           Non-Null Count  Dtype         \n",
      "---  ------           --------------  -----         \n",
      " 0   DATE             30 non-null     datetime64[ns]\n",
      " 1   Oyo_Trans        30 non-null     int64         \n",
      " 2   OYO_CASH         30 non-null     int64         \n",
      " 3   OYO_UPI          30 non-null     int64         \n",
      " 4   OYO_CARD         30 non-null     int64         \n",
      " 5   OYO_ONLINE PAID  30 non-null     int64         \n",
      " 6   WalkIn_Trans     30 non-null     int64         \n",
      " 7   Walkin_CASH      30 non-null     int64         \n",
      " 8   Walkin_UPI       30 non-null     int64         \n",
      " 9   Walkin_CARD      30 non-null     int64         \n",
      " 10  EXPENSES         30 non-null     int64         \n",
      " 11  Total Sale       30 non-null     int64         \n",
      " 12  Day close        30 non-null     int64         \n",
      " 13  Cash collected   30 non-null     int64         \n",
      "dtypes: datetime64[ns](1), int64(13)\n",
      "memory usage: 3.4 KB\n"
     ]
    }
   ],
   "source": [
    "df.info()"
   ]
  },
  {
   "cell_type": "code",
   "execution_count": 7,
   "id": "70690ea0-af0b-4af6-8818-2f405202131f",
   "metadata": {},
   "outputs": [],
   "source": [
    "df.drop(columns=['OYO_CASH','OYO_UPI','OYO_CARD','Walkin_CASH','Walkin_UPI','Walkin_CARD','DATE','Day close','Cash collected'],inplace=True)"
   ]
  },
  {
   "cell_type": "code",
   "execution_count": 8,
   "id": "08ee1743-fb54-4a42-94b4-3bcf97ff3475",
   "metadata": {},
   "outputs": [
    {
     "data": {
      "text/html": [
       "<div>\n",
       "<style scoped>\n",
       "    .dataframe tbody tr th:only-of-type {\n",
       "        vertical-align: middle;\n",
       "    }\n",
       "\n",
       "    .dataframe tbody tr th {\n",
       "        vertical-align: top;\n",
       "    }\n",
       "\n",
       "    .dataframe thead th {\n",
       "        text-align: right;\n",
       "    }\n",
       "</style>\n",
       "<table border=\"1\" class=\"dataframe\">\n",
       "  <thead>\n",
       "    <tr style=\"text-align: right;\">\n",
       "      <th></th>\n",
       "      <th>Oyo_Trans</th>\n",
       "      <th>OYO_ONLINE PAID</th>\n",
       "      <th>WalkIn_Trans</th>\n",
       "      <th>EXPENSES</th>\n",
       "      <th>Total Sale</th>\n",
       "    </tr>\n",
       "  </thead>\n",
       "  <tbody>\n",
       "    <tr>\n",
       "      <th>0</th>\n",
       "      <td>15874</td>\n",
       "      <td>6139</td>\n",
       "      <td>19200</td>\n",
       "      <td>1070</td>\n",
       "      <td>41213</td>\n",
       "    </tr>\n",
       "    <tr>\n",
       "      <th>1</th>\n",
       "      <td>9658</td>\n",
       "      <td>2954</td>\n",
       "      <td>27300</td>\n",
       "      <td>2900</td>\n",
       "      <td>39912</td>\n",
       "    </tr>\n",
       "    <tr>\n",
       "      <th>2</th>\n",
       "      <td>11797</td>\n",
       "      <td>1233</td>\n",
       "      <td>24300</td>\n",
       "      <td>2035</td>\n",
       "      <td>37330</td>\n",
       "    </tr>\n",
       "    <tr>\n",
       "      <th>3</th>\n",
       "      <td>8026</td>\n",
       "      <td>1786</td>\n",
       "      <td>29572</td>\n",
       "      <td>3510</td>\n",
       "      <td>39384</td>\n",
       "    </tr>\n",
       "    <tr>\n",
       "      <th>4</th>\n",
       "      <td>10119</td>\n",
       "      <td>4100</td>\n",
       "      <td>22400</td>\n",
       "      <td>2440</td>\n",
       "      <td>36619</td>\n",
       "    </tr>\n",
       "  </tbody>\n",
       "</table>\n",
       "</div>"
      ],
      "text/plain": [
       "   Oyo_Trans  OYO_ONLINE PAID  WalkIn_Trans  EXPENSES  Total Sale\n",
       "0      15874             6139         19200      1070       41213\n",
       "1       9658             2954         27300      2900       39912\n",
       "2      11797             1233         24300      2035       37330\n",
       "3       8026             1786         29572      3510       39384\n",
       "4      10119             4100         22400      2440       36619"
      ]
     },
     "execution_count": 8,
     "metadata": {},
     "output_type": "execute_result"
    }
   ],
   "source": [
    "df.head()"
   ]
  },
  {
   "cell_type": "code",
   "execution_count": 9,
   "id": "6d875ab5-7707-48ce-b2db-af348d4f295b",
   "metadata": {},
   "outputs": [],
   "source": [
    "# Create features and target\n",
    "X=df.drop(['Total Sale'],axis=1)\n",
    "y=df['Total Sale']"
   ]
  },
  {
   "cell_type": "code",
   "execution_count": 10,
   "id": "c303d117-a5c0-459b-a965-fb6c099cfbf5",
   "metadata": {},
   "outputs": [],
   "source": [
    "X_train, X_test, y_train, y_test = train_test_split(X, y, test_size=0.2, random_state=5)"
   ]
  },
  {
   "cell_type": "code",
   "execution_count": 11,
   "id": "d3878855-8e4c-431a-a4ce-efdc78b5caa1",
   "metadata": {},
   "outputs": [
    {
     "data": {
      "text/html": [
       "<style>#sk-container-id-1 {color: black;background-color: white;}#sk-container-id-1 pre{padding: 0;}#sk-container-id-1 div.sk-toggleable {background-color: white;}#sk-container-id-1 label.sk-toggleable__label {cursor: pointer;display: block;width: 100%;margin-bottom: 0;padding: 0.3em;box-sizing: border-box;text-align: center;}#sk-container-id-1 label.sk-toggleable__label-arrow:before {content: \"▸\";float: left;margin-right: 0.25em;color: #696969;}#sk-container-id-1 label.sk-toggleable__label-arrow:hover:before {color: black;}#sk-container-id-1 div.sk-estimator:hover label.sk-toggleable__label-arrow:before {color: black;}#sk-container-id-1 div.sk-toggleable__content {max-height: 0;max-width: 0;overflow: hidden;text-align: left;background-color: #f0f8ff;}#sk-container-id-1 div.sk-toggleable__content pre {margin: 0.2em;color: black;border-radius: 0.25em;background-color: #f0f8ff;}#sk-container-id-1 input.sk-toggleable__control:checked~div.sk-toggleable__content {max-height: 200px;max-width: 100%;overflow: auto;}#sk-container-id-1 input.sk-toggleable__control:checked~label.sk-toggleable__label-arrow:before {content: \"▾\";}#sk-container-id-1 div.sk-estimator input.sk-toggleable__control:checked~label.sk-toggleable__label {background-color: #d4ebff;}#sk-container-id-1 div.sk-label input.sk-toggleable__control:checked~label.sk-toggleable__label {background-color: #d4ebff;}#sk-container-id-1 input.sk-hidden--visually {border: 0;clip: rect(1px 1px 1px 1px);clip: rect(1px, 1px, 1px, 1px);height: 1px;margin: -1px;overflow: hidden;padding: 0;position: absolute;width: 1px;}#sk-container-id-1 div.sk-estimator {font-family: monospace;background-color: #f0f8ff;border: 1px dotted black;border-radius: 0.25em;box-sizing: border-box;margin-bottom: 0.5em;}#sk-container-id-1 div.sk-estimator:hover {background-color: #d4ebff;}#sk-container-id-1 div.sk-parallel-item::after {content: \"\";width: 100%;border-bottom: 1px solid gray;flex-grow: 1;}#sk-container-id-1 div.sk-label:hover label.sk-toggleable__label {background-color: #d4ebff;}#sk-container-id-1 div.sk-serial::before {content: \"\";position: absolute;border-left: 1px solid gray;box-sizing: border-box;top: 0;bottom: 0;left: 50%;z-index: 0;}#sk-container-id-1 div.sk-serial {display: flex;flex-direction: column;align-items: center;background-color: white;padding-right: 0.2em;padding-left: 0.2em;position: relative;}#sk-container-id-1 div.sk-item {position: relative;z-index: 1;}#sk-container-id-1 div.sk-parallel {display: flex;align-items: stretch;justify-content: center;background-color: white;position: relative;}#sk-container-id-1 div.sk-item::before, #sk-container-id-1 div.sk-parallel-item::before {content: \"\";position: absolute;border-left: 1px solid gray;box-sizing: border-box;top: 0;bottom: 0;left: 50%;z-index: -1;}#sk-container-id-1 div.sk-parallel-item {display: flex;flex-direction: column;z-index: 1;position: relative;background-color: white;}#sk-container-id-1 div.sk-parallel-item:first-child::after {align-self: flex-end;width: 50%;}#sk-container-id-1 div.sk-parallel-item:last-child::after {align-self: flex-start;width: 50%;}#sk-container-id-1 div.sk-parallel-item:only-child::after {width: 0;}#sk-container-id-1 div.sk-dashed-wrapped {border: 1px dashed gray;margin: 0 0.4em 0.5em 0.4em;box-sizing: border-box;padding-bottom: 0.4em;background-color: white;}#sk-container-id-1 div.sk-label label {font-family: monospace;font-weight: bold;display: inline-block;line-height: 1.2em;}#sk-container-id-1 div.sk-label-container {text-align: center;}#sk-container-id-1 div.sk-container {/* jupyter's `normalize.less` sets `[hidden] { display: none; }` but bootstrap.min.css set `[hidden] { display: none !important; }` so we also need the `!important` here to be able to override the default hidden behavior on the sphinx rendered scikit-learn.org. See: https://github.com/scikit-learn/scikit-learn/issues/21755 */display: inline-block !important;position: relative;}#sk-container-id-1 div.sk-text-repr-fallback {display: none;}</style><div id=\"sk-container-id-1\" class=\"sk-top-container\"><div class=\"sk-text-repr-fallback\"><pre>LinearRegression()</pre><b>In a Jupyter environment, please rerun this cell to show the HTML representation or trust the notebook. <br />On GitHub, the HTML representation is unable to render, please try loading this page with nbviewer.org.</b></div><div class=\"sk-container\" hidden><div class=\"sk-item\"><div class=\"sk-estimator sk-toggleable\"><input class=\"sk-toggleable__control sk-hidden--visually\" id=\"sk-estimator-id-1\" type=\"checkbox\" checked><label for=\"sk-estimator-id-1\" class=\"sk-toggleable__label sk-toggleable__label-arrow\">LinearRegression</label><div class=\"sk-toggleable__content\"><pre>LinearRegression()</pre></div></div></div></div></div>"
      ],
      "text/plain": [
       "LinearRegression()"
      ]
     },
     "execution_count": 11,
     "metadata": {},
     "output_type": "execute_result"
    }
   ],
   "source": [
    "model = LinearRegression()\n",
    "\n",
    "model.fit(X_train,y_train)"
   ]
  },
  {
   "cell_type": "code",
   "execution_count": 12,
   "id": "a0094b85-3519-4ecc-b164-6fd5021b3659",
   "metadata": {},
   "outputs": [],
   "source": [
    "# Predict sales for the test set\n",
    "y_pred = model.predict(X_test)"
   ]
  },
  {
   "cell_type": "code",
   "execution_count": 13,
   "id": "0475dd86-ab52-4763-b289-fd89bf1ca9ab",
   "metadata": {},
   "outputs": [
    {
     "name": "stdout",
     "output_type": "stream",
     "text": [
      "Mean Absolute Error: 6.6696278130014735e-12\n"
     ]
    },
    {
     "data": {
      "text/plain": [
       "1.0"
      ]
     },
     "execution_count": 13,
     "metadata": {},
     "output_type": "execute_result"
    }
   ],
   "source": [
    "# Evaluate the model\n",
    "mae = mean_absolute_error(y_test, y_pred)\n",
    "print(f'Mean Absolute Error: {mae}')\n",
    "\n",
    "from sklearn.metrics import r2_score\n",
    "r2_score(y_test,y_pred)"
   ]
  },
  {
   "cell_type": "code",
   "execution_count": 14,
   "id": "0deb9d6f-09b4-4e89-a937-1de38306de41",
   "metadata": {},
   "outputs": [
    {
     "name": "stdout",
     "output_type": "stream",
     "text": [
      "Cross-validation scores:[1. 1. 1. 1. 1. 1. 1. 1. 1. 1.]\n"
     ]
    }
   ],
   "source": [
    "from sklearn.model_selection import cross_val_score\n",
    "from sklearn.model_selection import GridSearchCV\n",
    "\n",
    "scores = cross_val_score(model, X_train, y_train, cv = 10, scoring='r2')\n",
    "\n",
    "print('Cross-validation scores:{}'.format(scores))"
   ]
  },
  {
   "cell_type": "code",
   "execution_count": 15,
   "id": "948ce3ef-1252-424d-bdc3-06fd0b6fb665",
   "metadata": {},
   "outputs": [],
   "source": [
    "from datetime import datetime, timedelta\n",
    "\n",
    "# Example definition of future_dates and future_predictions\n",
    "future_dates = [(datetime.now() + timedelta(days=i)).strftime('%Y-%m-%d') for i in range(10)]\n",
    "future_predictions = [100 + i * 5 for i in range(10)]\n",
    "\n",
    "# Creating a DataFrame\n",
    "predictions_df = pd.DataFrame({'DATE': future_dates, 'Predicted Sale': future_predictions})\n",
    "\n",
    "# Saving to Excel\n",
    "predictions_df.to_excel('sales_predictions.xlsx', index=False)\n"
   ]
  },
  {
   "cell_type": "code",
   "execution_count": null,
   "id": "1c283735-e183-4072-9aba-8a00221bf908",
   "metadata": {},
   "outputs": [],
   "source": []
  }
 ],
 "metadata": {
  "kernelspec": {
   "display_name": "Python 3 (ipykernel)",
   "language": "python",
   "name": "python3"
  },
  "language_info": {
   "codemirror_mode": {
    "name": "ipython",
    "version": 3
   },
   "file_extension": ".py",
   "mimetype": "text/x-python",
   "name": "python",
   "nbconvert_exporter": "python",
   "pygments_lexer": "ipython3",
   "version": "3.11.7"
  }
 },
 "nbformat": 4,
 "nbformat_minor": 5
}
